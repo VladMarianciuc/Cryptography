{
 "cells": [
  {
   "cell_type": "markdown",
   "id": "2d240d7b",
   "metadata": {},
   "source": [
    "### Caesar cypher, encrypting, decrypting, frequency analysis\n",
    "\n",
    "The aim of this exercise is to get a better grasp of the Caesar cypher and the technique to crack it. The steps are the following:\n",
    "* get a random paragraph to be encrypted\n",
    "* generate a Caesar cypher for a random shifting value\n",
    "* make the encryption\n",
    "* make a letter frequency analysis on the encrypted text and compare it with the normal frequency of letters in english language\n",
    "* generate an inverse key to decode the encrypted text back to the original one\n"
   ]
  },
  {
   "cell_type": "markdown",
   "id": "971a045f",
   "metadata": {},
   "source": [
    "***"
   ]
  },
  {
   "cell_type": "markdown",
   "id": "ac510769",
   "metadata": {},
   "source": [
    "First, I'm going to scrape some random paragraph from <a href=\"https://randomword.com/paragraph\">randomword.com</a>. For this I will use the libraries Beautiful Soup and requests."
   ]
  },
  {
   "cell_type": "code",
   "execution_count": 1,
   "id": "bba3833f",
   "metadata": {
    "scrolled": true
   },
   "outputs": [
    {
     "name": "stdout",
     "output_type": "stream",
     "text": [
      "Random text: \n",
      "\n",
      "there was something special about this little creature. donna couldn't quite pinpoint what it was, but she knew with all her heart that it was true. it wasn't a matter of if she was going to try and save it, but a matter of how she was going to save it. she went back to the car to get a blanket and when she returned the creature was gone.\n"
     ]
    }
   ],
   "source": [
    "from bs4 import BeautifulSoup\n",
    "import requests\n",
    "\n",
    "page = requests.get(\"https://randomword.com/paragraph\")\n",
    "soup = BeautifulSoup(page.text, \"html.parser\")\n",
    "\n",
    "text = soup.find(id=\"random_word_definition\").get_text().lower()\n",
    "print('Random text: \\n')\n",
    "print(text)"
   ]
  },
  {
   "cell_type": "markdown",
   "id": "f0bb317e",
   "metadata": {},
   "source": [
    "***"
   ]
  },
  {
   "cell_type": "markdown",
   "id": "53a7d76b",
   "metadata": {},
   "source": [
    "Next, I'm going to generate a Caesar cypher with a random shifting value $n$, denoted $Caesar(n)$, and I will display the result in a table using pandas."
   ]
  },
  {
   "cell_type": "code",
   "execution_count": 2,
   "id": "f04e50ad",
   "metadata": {
    "scrolled": true
   },
   "outputs": [
    {
     "data": {
      "text/html": [
       "<div>\n",
       "<style scoped>\n",
       "    .dataframe tbody tr th:only-of-type {\n",
       "        vertical-align: middle;\n",
       "    }\n",
       "\n",
       "    .dataframe tbody tr th {\n",
       "        vertical-align: top;\n",
       "    }\n",
       "\n",
       "    .dataframe thead th {\n",
       "        text-align: right;\n",
       "    }\n",
       "</style>\n",
       "<table border=\"1\" class=\"dataframe\">\n",
       "  <thead>\n",
       "    <tr style=\"text-align: right;\">\n",
       "      <th></th>\n",
       "      <th>a</th>\n",
       "      <th>b</th>\n",
       "      <th>c</th>\n",
       "      <th>d</th>\n",
       "      <th>e</th>\n",
       "      <th>f</th>\n",
       "      <th>g</th>\n",
       "      <th>h</th>\n",
       "      <th>i</th>\n",
       "      <th>j</th>\n",
       "      <th>...</th>\n",
       "      <th>q</th>\n",
       "      <th>r</th>\n",
       "      <th>s</th>\n",
       "      <th>t</th>\n",
       "      <th>u</th>\n",
       "      <th>v</th>\n",
       "      <th>w</th>\n",
       "      <th>x</th>\n",
       "      <th>y</th>\n",
       "      <th>z</th>\n",
       "    </tr>\n",
       "  </thead>\n",
       "  <tbody>\n",
       "    <tr>\n",
       "      <th>Caesar(11)</th>\n",
       "      <td>l</td>\n",
       "      <td>m</td>\n",
       "      <td>n</td>\n",
       "      <td>o</td>\n",
       "      <td>p</td>\n",
       "      <td>q</td>\n",
       "      <td>r</td>\n",
       "      <td>s</td>\n",
       "      <td>t</td>\n",
       "      <td>u</td>\n",
       "      <td>...</td>\n",
       "      <td>b</td>\n",
       "      <td>c</td>\n",
       "      <td>d</td>\n",
       "      <td>e</td>\n",
       "      <td>f</td>\n",
       "      <td>g</td>\n",
       "      <td>h</td>\n",
       "      <td>i</td>\n",
       "      <td>j</td>\n",
       "      <td>k</td>\n",
       "    </tr>\n",
       "  </tbody>\n",
       "</table>\n",
       "<p>1 rows × 26 columns</p>\n",
       "</div>"
      ],
      "text/plain": [
       "            a  b  c  d  e  f  g  h  i  j  ...  q  r  s  t  u  v  w  x  y  z\n",
       "Caesar(11)  l  m  n  o  p  q  r  s  t  u  ...  b  c  d  e  f  g  h  i  j  k\n",
       "\n",
       "[1 rows x 26 columns]"
      ]
     },
     "execution_count": 2,
     "metadata": {},
     "output_type": "execute_result"
    }
   ],
   "source": [
    "import numpy\n",
    "import pandas as pd\n",
    "import random\n",
    "\n",
    "a = [chr(x+97) for x in numpy.arange(0, 26)] #generating a list from a to z\n",
    "n = random.randint(1, 25) #picking a random shifting value for the Caesar cipher\n",
    "\n",
    "\n",
    "#generating and displaying the resulted Caesar(n) cipher\n",
    "a1 = numpy.roll(a, -n)\n",
    "df = pd.DataFrame(columns = a, data = [a1], index=[f'Caesar({n})'])\n",
    "df"
   ]
  },
  {
   "cell_type": "markdown",
   "id": "91b219ba",
   "metadata": {},
   "source": [
    "***"
   ]
  },
  {
   "cell_type": "markdown",
   "id": "472c9fc6",
   "metadata": {},
   "source": [
    "With the cypher done, I'm gonna use it to encrypt the text. For this I prefer to make a dictionary and apply the translate() function on the paragraph."
   ]
  },
  {
   "cell_type": "code",
   "execution_count": 3,
   "id": "909fe93e",
   "metadata": {},
   "outputs": [
    {
     "name": "stdout",
     "output_type": "stream",
     "text": [
      "espcp hld dzxpestyr dapntlw lmzfe estd wteewp ncplefcp. ozyyl nzfwoy'e bftep atyaztye hsle te hld, mfe dsp vyph htes lww spc splce esle te hld ecfp. te hldy'e l xleepc zq tq dsp hld rztyr ez ecj lyo dlgp te, mfe l xleepc zq szh dsp hld rztyr ez dlgp te. dsp hpye mlnv ez esp nlc ez rpe l mwlyvpe lyo hspy dsp cpefcypo esp ncplefcp hld rzyp.\n"
     ]
    }
   ],
   "source": [
    "d = dict(zip([ord(x) for x in a], [ord(x) for x in a1]))\n",
    "encr = text.translate(d)\n",
    "print(encr)"
   ]
  },
  {
   "cell_type": "markdown",
   "id": "c9d3a1cc",
   "metadata": {},
   "source": [
    "***"
   ]
  },
  {
   "cell_type": "markdown",
   "id": "e0a1df45",
   "metadata": {},
   "source": [
    "Now for the frequency analysis. First I'll strip the encrypted text of all punctuation marks and spaces using RegEx.\n",
    "\n",
    "After that I'll store every letter of the encrypted text in a pandas DataFrame which I'll be grouping it by each letter and sorting it by frequency (letter count/total length of text).\n",
    "\n",
    "Finally, using matplotlib, I'll be displaying the letter frequency chart of the encrypted text."
   ]
  },
  {
   "cell_type": "code",
   "execution_count": 4,
   "id": "79665057",
   "metadata": {
    "scrolled": true
   },
   "outputs": [
    {
     "data": {
      "image/png": "[encoded data removed]",
      "text/plain": [
       "<Figure size 432x288 with 1 Axes>"
      ]
     },
     "metadata": {
      "needs_background": "light"
     },
     "output_type": "display_data"
    }
   ],
   "source": [
    "import matplotlib.pyplot as plt\n",
    "import re\n",
    "\n",
    "\n",
    "encr_trim = re.sub(r'[^\\w\\s]', '', encr).replace(' ', '')\n",
    "char_list = list(encr_trim)\n",
    "\n",
    "df = pd.DataFrame({'chars': char_list})\n",
    "df['num'] = 1\n",
    "df = df.groupby('chars').sum().sort_values('num', ascending=False) *100/ len(df)\n",
    "\n",
    "plt.bar(df.index, df.num, width=0.5, color='g')\n",
    "plt.show()"
   ]
  },
  {
   "cell_type": "markdown",
   "id": "90a92212",
   "metadata": {},
   "source": [
    "***"
   ]
  },
  {
   "cell_type": "markdown",
   "id": "b36b6a7e",
   "metadata": {},
   "source": [
    "Using an English Frequency Table from <a href=\"https://pi.math.cornell.edu/~mec/2003-2004/cryptography/subs/frequencies.html\">Cornell University website</a>, we can compare the 2 charts."
   ]
  },
  {
   "cell_type": "code",
   "execution_count": 5,
   "id": "65a3e681",
   "metadata": {},
   "outputs": [
    {
     "data": {
      "image/png": "[encoded data removed]",
      "text/plain": [
       "<Figure size 432x288 with 1 Axes>"
      ]
     },
     "metadata": {
      "needs_background": "light"
     },
     "output_type": "display_data"
    }
   ],
   "source": [
    "#scraping the frequency table\n",
    "page = requests.get(\"https://pi.math.cornell.edu/~mec/2003-2004/cryptography/subs/frequencies.html\")\n",
    "soup = BeautifulSoup(page.text, \"html.parser\")\n",
    "\n",
    "t = soup.find_all(\"td\")\n",
    "letters = []\n",
    "freq = []\n",
    "for i, elem in enumerate(t[5:]):\n",
    "    if(i%5==3):\n",
    "        letters.append(elem.get_text().lower())\n",
    "    if(i%5==4):\n",
    "        freq.append(float(elem.get_text()))\n",
    "        \n",
    "plt.bar(letters, freq, width=0.5, color='g')\n",
    "plt.show()"
   ]
  },
  {
   "cell_type": "markdown",
   "id": "297994b5",
   "metadata": {},
   "source": [
    "***"
   ]
  },
  {
   "cell_type": "markdown",
   "id": "cda4fded",
   "metadata": {},
   "source": [
    "Now the Caesar cypher is a simple one and thus it is enough to find one letter corespondence and from that we can determine the shifting value of the cypher; this will let us find the corespondence of all the other letters. \n",
    "\n",
    "From the English Letter Frequency chart we can see that the letter 'e' has the biggest distribution. Comparing this with the letter that has the biggest distribution from the encrypted text, we can make a sensible assumption that these 2 corespond one to another. This will enable us to find the shifting value, generate a decryption key and decypher the rest of the text back to it's original form.\n",
    "\n",
    "<u>Note:</u> If the text sample is small, the letter 'e' might not have the biggest distribution; but it is rather safe to assume that it will still have one of the top frequencies - nonetheless, by applying the above strategy for the top letters by their distribution we should find the correct key in a couple of tries."
   ]
  },
  {
   "cell_type": "code",
   "execution_count": 6,
   "id": "6f495c24",
   "metadata": {},
   "outputs": [
    {
     "name": "stdout",
     "output_type": "stream",
     "text": [
      "Number of tries: 2\n",
      "\n",
      "Shifting value: 11\n",
      "\n",
      "\n",
      "Original text:\n",
      "\n",
      "there was something special about this little creature. donna couldn't quite pinpoint what it was, but she knew with all her heart that it was true. it wasn't a matter of if she was going to try and save it, but a matter of how she was going to save it. she went back to the car to get a blanket and when she returned the creature was gone.\n"
     ]
    }
   ],
   "source": [
    "for i in range(len(df)):\n",
    "    shift=ord(df.index[i])-ord('e') # finding the shifting value\n",
    "    key_inv = dict(zip([ord(x) for x in numpy.roll(a, -shift)], [ord(x) for x in a])) # generating the decryption key\n",
    "    decr = encr.translate(key_inv) # decrypting the encrypted text\n",
    "    if(decr == text):\n",
    "        print(f'Number of tries: {i+1}\\n')\n",
    "        break\n",
    "        \n",
    "print(f'Shifting value: {shift}\\n\\n')\n",
    "print(f'Original text:\\n\\n{decr}')"
   ]
  }
 ],
 "metadata": {
  "kernelspec": {
   "display_name": "Python 3",
   "language": "python",
   "name": "python3"
  },
  "language_info": {
   "codemirror_mode": {
    "name": "ipython",
    "version": 3
   },
   "file_extension": ".py",
   "mimetype": "text/x-python",
   "name": "python",
   "nbconvert_exporter": "python",
   "pygments_lexer": "ipython3",
   "version": "3.8.8"
  }
 },
 "nbformat": 4,
 "nbformat_minor": 5
}
