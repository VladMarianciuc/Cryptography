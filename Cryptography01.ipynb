{
 "cells": [
  {
   "cell_type": "markdown",
   "id": "1ac97238",
   "metadata": {},
   "source": [
    "### Caesar cypher, encrypting, decrypting, frequency analysis\n",
    "\n",
    "The aim of this exercise is to get a better grasp of the Caesar cypher and the technique to crack it. The steps are the following:\n",
    "* get a random paragraph to be encrypted\n",
    "* generate a Caesar cypher for a random shifting value\n",
    "* make the encryption\n",
    "* make a letter frequency analysis on the encrypted text and compare it with the normal frequency of letters in english language\n",
    "* generate an inverse key to decode the encrypted text back to the original one\n"
   ]
  },
  {
   "cell_type": "markdown",
   "id": "3efc9f60",
   "metadata": {},
   "source": [
    "***"
   ]
  },
  {
   "cell_type": "markdown",
   "id": "64a754ee",
   "metadata": {},
   "source": [
    "First, I'm going to scrape some random paragraph from <a href=\"https://randomword.com/paragraph\">randomword.com</a>. For this I will use the libraries Beautiful Soup and requests."
   ]
  },
  {
   "cell_type": "code",
   "execution_count": 1,
   "id": "41815250",
   "metadata": {
    "scrolled": true
   },
   "outputs": [
    {
     "name": "stdout",
     "output_type": "stream",
     "text": [
      "Random text: \n",
      "\n",
      "what have you noticed today? i noticed that if you outline the eyes, nose, and mouth on your face with your finger, you make an \"i\" which makes perfect sense, but is something i never noticed before. what have you noticed today?\n"
     ]
    }
   ],
   "source": [
    "from bs4 import BeautifulSoup\n",
    "import requests\n",
    "\n",
    "page = requests.get(\"https://randomword.com/paragraph\")\n",
    "soup = BeautifulSoup(page.text, \"html.parser\")\n",
    "\n",
    "text = soup.find(id=\"random_word_definition\").get_text().lower()\n",
    "print('Random text: \\n')\n",
    "print(text)"
   ]
  },
  {
   "cell_type": "markdown",
   "id": "c0b85d9d",
   "metadata": {},
   "source": [
    "***"
   ]
  },
  {
   "cell_type": "markdown",
   "id": "cef38716",
   "metadata": {},
   "source": [
    "Next, I'm going to generate a Caesar cypher with a random shifting value $n$, denoted $Caesar(n)$, and I will display the result in a table using pandas."
   ]
  },
  {
   "cell_type": "code",
   "execution_count": 2,
   "id": "8c94f7d3",
   "metadata": {
    "scrolled": true
   },
   "outputs": [
    {
     "data": {
      "text/html": [
       "<div>\n",
       "<style scoped>\n",
       "    .dataframe tbody tr th:only-of-type {\n",
       "        vertical-align: middle;\n",
       "    }\n",
       "\n",
       "    .dataframe tbody tr th {\n",
       "        vertical-align: top;\n",
       "    }\n",
       "\n",
       "    .dataframe thead th {\n",
       "        text-align: right;\n",
       "    }\n",
       "</style>\n",
       "<table border=\"1\" class=\"dataframe\">\n",
       "  <thead>\n",
       "    <tr style=\"text-align: right;\">\n",
       "      <th></th>\n",
       "      <th>a</th>\n",
       "      <th>b</th>\n",
       "      <th>c</th>\n",
       "      <th>d</th>\n",
       "      <th>e</th>\n",
       "      <th>f</th>\n",
       "      <th>g</th>\n",
       "      <th>h</th>\n",
       "      <th>i</th>\n",
       "      <th>j</th>\n",
       "      <th>...</th>\n",
       "      <th>q</th>\n",
       "      <th>r</th>\n",
       "      <th>s</th>\n",
       "      <th>t</th>\n",
       "      <th>u</th>\n",
       "      <th>v</th>\n",
       "      <th>w</th>\n",
       "      <th>x</th>\n",
       "      <th>y</th>\n",
       "      <th>z</th>\n",
       "    </tr>\n",
       "  </thead>\n",
       "  <tbody>\n",
       "    <tr>\n",
       "      <th>Caesar(7)</th>\n",
       "      <td>h</td>\n",
       "      <td>i</td>\n",
       "      <td>j</td>\n",
       "      <td>k</td>\n",
       "      <td>l</td>\n",
       "      <td>m</td>\n",
       "      <td>n</td>\n",
       "      <td>o</td>\n",
       "      <td>p</td>\n",
       "      <td>q</td>\n",
       "      <td>...</td>\n",
       "      <td>x</td>\n",
       "      <td>y</td>\n",
       "      <td>z</td>\n",
       "      <td>a</td>\n",
       "      <td>b</td>\n",
       "      <td>c</td>\n",
       "      <td>d</td>\n",
       "      <td>e</td>\n",
       "      <td>f</td>\n",
       "      <td>g</td>\n",
       "    </tr>\n",
       "  </tbody>\n",
       "</table>\n",
       "<p>1 rows × 26 columns</p>\n",
       "</div>"
      ],
      "text/plain": [
       "           a  b  c  d  e  f  g  h  i  j  ...  q  r  s  t  u  v  w  x  y  z\n",
       "Caesar(7)  h  i  j  k  l  m  n  o  p  q  ...  x  y  z  a  b  c  d  e  f  g\n",
       "\n",
       "[1 rows x 26 columns]"
      ]
     },
     "execution_count": 2,
     "metadata": {},
     "output_type": "execute_result"
    }
   ],
   "source": [
    "import numpy\n",
    "import pandas as pd\n",
    "import random\n",
    "\n",
    "a = [chr(x+97) for x in numpy.arange(0, 26)] #generating a list from a to z\n",
    "n = random.randint(1, 25) #picking a random shifting value for the Caesar cipher\n",
    "\n",
    "\n",
    "#generating and displaying the resulted Caesar(n) cipher\n",
    "a1 = numpy.roll(a, -n)\n",
    "df = pd.DataFrame(columns = a, data = [a1], index=[f'Caesar({n})'])\n",
    "df"
   ]
  },
  {
   "cell_type": "markdown",
   "id": "fbfb99b6",
   "metadata": {},
   "source": [
    "***"
   ]
  },
  {
   "cell_type": "markdown",
   "id": "36819604",
   "metadata": {},
   "source": [
    "With the cypher done, I'm gonna use it to encrypt the text. For this I prefer to make a dictionary and apply the translate() function on the paragraph."
   ]
  },
  {
   "cell_type": "code",
   "execution_count": 3,
   "id": "53482a86",
   "metadata": {},
   "outputs": [
    {
     "name": "stdout",
     "output_type": "stream",
     "text": [
      "Encrypted text:\n",
      "\n",
      "doha ohcl fvb uvapjlk avkhf? p uvapjlk aoha pm fvb vbaspul aol lflz, uvzl, huk tvbao vu fvby mhjl dpao fvby mpunly, fvb thrl hu \"p\" dopjo thrlz wlymlja zluzl, iba pz zvtlaopun p ulcly uvapjlk ilmvyl. doha ohcl fvb uvapjlk avkhf?\n"
     ]
    }
   ],
   "source": [
    "d = dict(zip([ord(x) for x in a], [ord(x) for x in a1]))\n",
    "encr = text.translate(d)\n",
    "print(f'Encrypted text:\\n')\n",
    "print(encr)"
   ]
  },
  {
   "cell_type": "markdown",
   "id": "fbbd77ae",
   "metadata": {},
   "source": [
    "***"
   ]
  },
  {
   "cell_type": "markdown",
   "id": "5e542f24",
   "metadata": {},
   "source": [
    "Now for the frequency analysis. First I'll strip the encrypted text of all punctuation marks and spaces using RegEx.\n",
    "\n",
    "After that I'll store every letter of the encrypted text in a pandas DataFrame which I'll be grouping it by each letter and sorting it by frequency (letter count/total length of text).\n",
    "\n",
    "Finally, using matplotlib, I'll be displaying the letter frequency chart of the encrypted text."
   ]
  },
  {
   "cell_type": "code",
   "execution_count": 4,
   "id": "60def3cd",
   "metadata": {
    "scrolled": true
   },
   "outputs": [
    {
     "data": {
      "image/png": "[encoded data removed]",
      "text/plain": [
       "<Figure size 432x288 with 1 Axes>"
      ]
     },
     "metadata": {
      "needs_background": "light"
     },
     "output_type": "display_data"
    }
   ],
   "source": [
    "import matplotlib.pyplot as plt\n",
    "import re\n",
    "\n",
    "\n",
    "encr_trim = re.sub(r'[^\\w\\s]', '', encr).replace(' ', '')\n",
    "char_list = list(encr_trim)\n",
    "\n",
    "df = pd.DataFrame({'chars': char_list})\n",
    "df['num'] = 1\n",
    "df = df.groupby('chars').sum().sort_values('num', ascending=False) *100/ len(df)\n",
    "\n",
    "plt.bar(df.index, df.num, width=0.5, color='g')\n",
    "plt.show()"
   ]
  },
  {
   "cell_type": "markdown",
   "id": "4eeb6c98",
   "metadata": {},
   "source": [
    "***"
   ]
  },
  {
   "cell_type": "markdown",
   "id": "4f0caba1",
   "metadata": {},
   "source": [
    "Using an English Frequency Table from <a href=\"https://pi.math.cornell.edu/~mec/2003-2004/cryptography/subs/frequencies.html\">Cornell University website</a>, we can compare the 2 charts."
   ]
  },
  {
   "cell_type": "code",
   "execution_count": 5,
   "id": "a6904e11",
   "metadata": {},
   "outputs": [
    {
     "data": {
      "image/png": "[encoded data removed]",
      "text/plain": [
       "<Figure size 432x288 with 1 Axes>"
      ]
     },
     "metadata": {
      "needs_background": "light"
     },
     "output_type": "display_data"
    }
   ],
   "source": [
    "#scraping the frequency table\n",
    "page = requests.get(\"https://pi.math.cornell.edu/~mec/2003-2004/cryptography/subs/frequencies.html\")\n",
    "soup = BeautifulSoup(page.text, \"html.parser\")\n",
    "\n",
    "t = soup.find_all(\"td\")\n",
    "letters = []\n",
    "freq = []\n",
    "for i, elem in enumerate(t[5:]):\n",
    "    if(i%5==3):\n",
    "        letters.append(elem.get_text().lower())\n",
    "    if(i%5==4):\n",
    "        freq.append(float(elem.get_text()))\n",
    "        \n",
    "plt.bar(letters, freq, width=0.5, color='g')\n",
    "plt.show()"
   ]
  },
  {
   "cell_type": "markdown",
   "id": "e7c09659",
   "metadata": {},
   "source": [
    "***"
   ]
  },
  {
   "cell_type": "markdown",
   "id": "f95679ed",
   "metadata": {},
   "source": [
    "Now the Caesar cypher is a simple one and thus it is enough to find one letter corespondence and from that we can determine the shifting value of the cypher; this will let us find the corespondence of all the other letters. \n",
    "\n",
    "From the English Letter Frequency chart we can see that the letter 'e' has the biggest distribution. Comparing this with the letter that has the biggest distribution from the encrypted text, we can make a sensible assumption that these 2 corespond one to another. This will enable us to find the shifting value, generate a decryption key and decypher the rest of the text back to it's original form.\n",
    "\n",
    "<u>Note:</u> If the text sample is small, the letter 'e' might not have the biggest distribution; but it is rather safe to assume that it will still have one of the top frequencies - nonetheless, by applying the above strategy for the top letters by their distribution we should find the correct key in a couple of tries."
   ]
  },
  {
   "cell_type": "code",
   "execution_count": 6,
   "id": "3454301a",
   "metadata": {},
   "outputs": [
    {
     "name": "stdout",
     "output_type": "stream",
     "text": [
      "Number of tries: 1\n",
      "\n",
      "Shifting value: 7\n",
      "\n",
      "\n",
      "Original text:\n",
      "\n",
      "what have you noticed today? i noticed that if you outline the eyes, nose, and mouth on your face with your finger, you make an \"i\" which makes perfect sense, but is something i never noticed before. what have you noticed today?\n"
     ]
    }
   ],
   "source": [
    "for i in range(len(df)):\n",
    "    shift=ord(df.index[i])-ord('e') # finding the shifting value\n",
    "    key_inv = dict(zip([ord(x) for x in numpy.roll(a, -shift)], [ord(x) for x in a])) # generating the decryption key\n",
    "    decr = encr.translate(key_inv) # decrypting the encrypted text\n",
    "    if(decr == text):\n",
    "        print(f'Number of tries: {i+1}\\n')\n",
    "        break\n",
    "        \n",
    "print(f'Shifting value: {shift}\\n\\n')\n",
    "print(f'Original text:\\n\\n{decr}')"
   ]
  }
 ],
 "metadata": {
  "kernelspec": {
   "display_name": "Python 3",
   "language": "python",
   "name": "python3"
  },
  "language_info": {
   "codemirror_mode": {
    "name": "ipython",
    "version": 3
   },
   "file_extension": ".py",
   "mimetype": "text/x-python",
   "name": "python",
   "nbconvert_exporter": "python",
   "pygments_lexer": "ipython3",
   "version": "3.8.8"
  }
 },
 "nbformat": 4,
 "nbformat_minor": 5
}
